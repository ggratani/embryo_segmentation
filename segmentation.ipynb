{
  "nbformat": 4,
  "nbformat_minor": 0,
  "metadata": {
    "colab": {
      "provenance": [],
      "authorship_tag": "ABX9TyOU/H4ZPdE0vMYd3zXoeoIJ",
      "include_colab_link": true
    },
    "kernelspec": {
      "name": "python3",
      "display_name": "Python 3"
    },
    "language_info": {
      "name": "python"
    }
  },
  "cells": [
    {
      "cell_type": "markdown",
      "metadata": {
        "id": "view-in-github",
        "colab_type": "text"
      },
      "source": [
        "<a href=\"https://colab.research.google.com/github/ggratani/embryo_segmentation/blob/main/segmentation.ipynb\" target=\"_parent\"><img src=\"https://colab.research.google.com/assets/colab-badge.svg\" alt=\"Open In Colab\"/></a>"
      ]
    },
    {
      "cell_type": "code",
      "source": [
        "!pip install flask_cors"
      ],
      "metadata": {
        "id": "jd1geurXO6-W",
        "colab": {
          "base_uri": "https://localhost:8080/"
        },
        "outputId": "7cd9f5cd-ac8a-44fc-e2e4-4b08c40640ee"
      },
      "execution_count": 2,
      "outputs": [
        {
          "output_type": "stream",
          "name": "stdout",
          "text": [
            "Collecting flask_cors\n",
            "  Downloading Flask_Cors-4.0.0-py2.py3-none-any.whl (14 kB)\n",
            "Requirement already satisfied: Flask>=0.9 in /usr/local/lib/python3.10/dist-packages (from flask_cors) (2.2.5)\n",
            "Requirement already satisfied: Werkzeug>=2.2.2 in /usr/local/lib/python3.10/dist-packages (from Flask>=0.9->flask_cors) (3.0.0)\n",
            "Requirement already satisfied: Jinja2>=3.0 in /usr/local/lib/python3.10/dist-packages (from Flask>=0.9->flask_cors) (3.1.2)\n",
            "Requirement already satisfied: itsdangerous>=2.0 in /usr/local/lib/python3.10/dist-packages (from Flask>=0.9->flask_cors) (2.1.2)\n",
            "Requirement already satisfied: click>=8.0 in /usr/local/lib/python3.10/dist-packages (from Flask>=0.9->flask_cors) (8.1.7)\n",
            "Requirement already satisfied: MarkupSafe>=2.0 in /usr/local/lib/python3.10/dist-packages (from Jinja2>=3.0->Flask>=0.9->flask_cors) (2.1.3)\n",
            "Installing collected packages: flask_cors\n",
            "Successfully installed flask_cors-4.0.0\n"
          ]
        }
      ]
    },
    {
      "cell_type": "code",
      "source": [
        "!pip install flask_ngrok"
      ],
      "metadata": {
        "colab": {
          "base_uri": "https://localhost:8080/"
        },
        "id": "Kr4v95El7vi6",
        "outputId": "8d729dcd-208f-4db0-8822-9a7f82c448db"
      },
      "execution_count": 4,
      "outputs": [
        {
          "output_type": "stream",
          "name": "stdout",
          "text": [
            "Collecting flask_ngrok\n",
            "  Downloading flask_ngrok-0.0.25-py3-none-any.whl (3.1 kB)\n",
            "Requirement already satisfied: Flask>=0.8 in /usr/local/lib/python3.10/dist-packages (from flask_ngrok) (2.2.5)\n",
            "Requirement already satisfied: requests in /usr/local/lib/python3.10/dist-packages (from flask_ngrok) (2.31.0)\n",
            "Requirement already satisfied: Werkzeug>=2.2.2 in /usr/local/lib/python3.10/dist-packages (from Flask>=0.8->flask_ngrok) (3.0.0)\n",
            "Requirement already satisfied: Jinja2>=3.0 in /usr/local/lib/python3.10/dist-packages (from Flask>=0.8->flask_ngrok) (3.1.2)\n",
            "Requirement already satisfied: itsdangerous>=2.0 in /usr/local/lib/python3.10/dist-packages (from Flask>=0.8->flask_ngrok) (2.1.2)\n",
            "Requirement already satisfied: click>=8.0 in /usr/local/lib/python3.10/dist-packages (from Flask>=0.8->flask_ngrok) (8.1.7)\n",
            "Requirement already satisfied: charset-normalizer<4,>=2 in /usr/local/lib/python3.10/dist-packages (from requests->flask_ngrok) (3.3.0)\n",
            "Requirement already satisfied: idna<4,>=2.5 in /usr/local/lib/python3.10/dist-packages (from requests->flask_ngrok) (3.4)\n",
            "Requirement already satisfied: urllib3<3,>=1.21.1 in /usr/local/lib/python3.10/dist-packages (from requests->flask_ngrok) (2.0.7)\n",
            "Requirement already satisfied: certifi>=2017.4.17 in /usr/local/lib/python3.10/dist-packages (from requests->flask_ngrok) (2023.7.22)\n",
            "Requirement already satisfied: MarkupSafe>=2.0 in /usr/local/lib/python3.10/dist-packages (from Jinja2>=3.0->Flask>=0.8->flask_ngrok) (2.1.3)\n",
            "Installing collected packages: flask_ngrok\n",
            "Successfully installed flask_ngrok-0.0.25\n"
          ]
        }
      ]
    },
    {
      "cell_type": "code",
      "source": [
        "from flask import Flask, jsonify, request\n",
        "from flask_cors import CORS\n",
        "import os\n",
        "from flask import send_from_directory\n",
        "import cv2\n",
        "from flask_ngrok import run_with_ngrok"
      ],
      "metadata": {
        "id": "rZ4mM-dpBXku"
      },
      "execution_count": null,
      "outputs": []
    },
    {
      "cell_type": "code",
      "source": [
        "def format_label(clase, x, y, width, height, image_width, image_height):\n",
        "    x_center = x / image_width\n",
        "    y_center = y / image_height\n",
        "    norm_width = width / image_width\n",
        "    norm_height = height / image_height\n",
        "    return f\"{clase} {x_center} {y_center} {norm_width} {norm_height}\\n\".format(clase, x_center, y_center, norm_width, norm_height)\n"
      ],
      "metadata": {
        "id": "6kCkwrDmBZpd"
      },
      "execution_count": null,
      "outputs": []
    },
    {
      "cell_type": "code",
      "source": [
        "config = {\n",
        "    # \"DEBUG\": True,\n",
        "    \"CACHE_TYPE\": \"SimpleCache\",\n",
        "    \"CACHE_DEFAULT_TIMEOUT\": 120\n",
        "}\n",
        "\n",
        "app = Flask(__name__)\n",
        "CORS(run_with_ngrok(app))\n",
        "\n",
        "# Configura la carpeta \"images\" como una carpeta estática\n",
        "app.static_folder = r'C:\\Users\\gasto\\Documents\\React\\embryoxite\\backend_flask'\n",
        "\n",
        "app.config.from_mapping(config)\n",
        "\n",
        "@app.route('/alive')\n",
        "def alive():\n",
        "    print(\"alive\")\n",
        "    return jsonify({\"mensaje\": \"Alive\"})"
      ],
      "metadata": {
        "id": "03q6DOf3BeZA"
      },
      "execution_count": null,
      "outputs": []
    },
    {
      "cell_type": "code",
      "source": [
        "# Configuracion ruta deteccion\n",
        "\n",
        "UPLOAD_FOLDER_DETECTION = r'C:\\Users\\gasto\\Documents\\React\\embryoxite\\backend_flask\\detection'\n",
        "\n",
        "# Carpeta para las imágenes\n",
        "app.config['IMAGE_UPLOAD_FOLDER_DETECTION'] = os.path.join(UPLOAD_FOLDER_DETECTION, 'images')\n",
        "# Carpeta para las anotaciones\n",
        "app.config['LABEL_UPLOAD_FOLDER_DETECTION'] = os.path.join(UPLOAD_FOLDER_DETECTION, 'labels')\n",
        "\n",
        "# Configuracion ruta segmentation\n",
        "\n",
        "UPLOAD_FOLDER_SEGMENTATION = r'segmentation'\n",
        "\n",
        "# Carpeta para las imágenes\n",
        "app.config['IMAGE_UPLOAD_FOLDER_SEGMENTATION'] = os.path.join(UPLOAD_FOLDER_SEGMENTATION, 'images')\n",
        "# Carpeta para las anotaciones\n",
        "app.config['LABEL_UPLOAD_FOLDER_SEGMENTATION'] = os.path.join(UPLOAD_FOLDER_SEGMENTATION, 'labels')\n"
      ],
      "metadata": {
        "id": "JkGkF6dTBiPB"
      },
      "execution_count": null,
      "outputs": []
    },
    {
      "cell_type": "code",
      "source": [
        "@app.route('/save_image_detection', methods=['POST'])\n",
        "def save_image():\n",
        "\n",
        "    if 'image' not in request.files:\n",
        "        return jsonify({\"mensaje\": \"No se encontró el archivo en la solicitud\"}), 400\n",
        "\n",
        "    image = request.files['image']\n",
        "    labels = request.files['labels'].read().decode('utf-8')\n",
        "\n",
        "    print(labels)\n",
        "\n",
        "    if image.filename == '':\n",
        "        return jsonify({\"mensaje\": \"No se seleccionó ningún archivo\"}), 400\n",
        "\n",
        "    if image and labels:\n",
        "        # Verificar que la extensión del archivo sea válida (puedes personalizar esto según tus necesidades)\n",
        "        allowed_extensions = {'png', 'jpg', 'jpeg', 'gif'}\n",
        "        if '.' in image.filename and image.filename.rsplit('.', 1)[1].lower() in allowed_extensions:\n",
        "            # Guardar el archivo en la carpeta de carga\n",
        "            filename = os.path.join(app.config['IMAGE_UPLOAD_FOLDER_DETECTION'], image.filename)\n",
        "            image.save(filename)\n",
        "\n",
        "            # Supongamos que 'annotations' contiene las anotaciones en formato YOLO\n",
        "            with open(os.path.join(app.config['LABEL_UPLOAD_FOLDER_DETECTION'], image.filename.rsplit('.', 1)[0] + \".txt\"), 'w') as file:\n",
        "                info = labels.split()\n",
        "                x = (float(info[1]) + float(info[3]))/2\n",
        "                y = (float(info[2]) + float(info[4]))/2\n",
        "\n",
        "                width = float(info[3])-float(info[1])\n",
        "                height = float(info[4])-float(info[2])\n",
        "                file.write(format_label(info[0], x, y, float(width), float(height), float(info[5]), float(info[6])))\n",
        "\n",
        "            return jsonify({\"mensaje\": \"Imagen guardada con éxito\"}), 200\n",
        "        else:\n",
        "            return jsonify({\"mensaje\": \"Extensión de archivo no permitida\"}), 400\n",
        ""
      ],
      "metadata": {
        "id": "GYOYtX0yBxs6"
      },
      "execution_count": null,
      "outputs": []
    },
    {
      "cell_type": "code",
      "source": [
        "@app.route('/save_image_segmentation', methods=['POST'])\n",
        "def save_image_segmentation():\n",
        "\n",
        "    if 'image' not in request.files:\n",
        "        return jsonify({\"mensaje\": \"No se encontró el archivo en la solicitud\"}), 400\n",
        "\n",
        "    image = request.files['image']\n",
        "    image2 = request.files['image2']\n",
        "\n",
        "    print(image)\n",
        "\n",
        "    if image.filename == '':\n",
        "        return jsonify({\"mensaje\": \"No se seleccionó ningún archivo\"}), 400\n",
        "\n",
        "    if image:\n",
        "        # Verificar que la extensión del archivo sea válida (puedes personalizar esto según tus necesidades)\n",
        "        allowed_extensions = {'png', 'jpg', 'jpeg', 'gif'}\n",
        "        if '.' in image.filename and image.filename.rsplit('.', 1)[1].lower() in allowed_extensions:\n",
        "            # Guardar el archivo en la carpeta de carga\n",
        "            filename = os.path.join(app.config['IMAGE_UPLOAD_FOLDER_SEGMENTATION'], image.filename)\n",
        "            image.save(filename)\n",
        "\n",
        "            # Decodifica la matriz de bytes en una imagen de OpenCV en escala de grises\n",
        "            imagen_opencv = cv2.imread(filename, cv2.IMREAD_GRAYSCALE)\n",
        "\n",
        "            # Define el umbral deseado (ajusta este valor según tus necesidades)\n",
        "            umbral = 200\n",
        "\n",
        "            # Aplica el umbral con cv2.THRESH_BINARY_INV\n",
        "            _, imagen_umbralizada = cv2.threshold(imagen_opencv, umbral, 255, cv2.THRESH_BINARY)\n",
        "\n",
        "            # Guarda la imagen umbralizada\n",
        "            cv2.imwrite(os.path.join(app.config['LABEL_UPLOAD_FOLDER_SEGMENTATION'], image.filename), imagen_umbralizada)\n",
        "\n",
        "            filename = os.path.join(app.config['IMAGE_UPLOAD_FOLDER_SEGMENTATION'], image.filename)\n",
        "            image2.save(filename)\n",
        "\n",
        "            return jsonify({\"mensaje\": \"Imagen guardada con éxito\"}), 200\n",
        "        else:\n",
        "            return jsonify({\"mensaje\": \"Extensión de archivo no permitida\"}), 400"
      ],
      "metadata": {
        "id": "R4Fn7KcLBojP"
      },
      "execution_count": null,
      "outputs": []
    },
    {
      "cell_type": "code",
      "source": [
        "@app.route('/get_images_detection', methods=['GET'])\n",
        "def get_images_detection():\n",
        "    # Obtener la lista de nombres de archivo en el directorio de imágenes\n",
        "    image_files = os.listdir(app.config['IMAGE_UPLOAD_FOLDER_DETECTION'])\n",
        "\n",
        "    # Filtrar la lista para incluir solo archivos de imagen (por extensión)\n",
        "    allowed_extensions = ['.jpg', '.jpeg', '.png', '.gif']\n",
        "    image_files = [file for file in image_files if any(file.endswith(ext) for ext in allowed_extensions)]\n",
        "\n",
        "    # Devolver la lista de nombres de archivo como respuesta JSON\n",
        "    return jsonify({'images': image_files})"
      ],
      "metadata": {
        "id": "qjK_Ft1eB1PW"
      },
      "execution_count": null,
      "outputs": []
    },
    {
      "cell_type": "code",
      "source": [
        "@app.route('/get_images_segmentation', methods=['GET'])\n",
        "def get_images_segmentation():\n",
        "    # Obtener la lista de nombres de archivo en el directorio de imágenes\n",
        "    image_files = os.listdir(app.config['IMAGE_UPLOAD_FOLDER_SEGMENTATION'])\n",
        "\n",
        "    # Filtrar la lista para incluir solo archivos de imagen (por extensión)\n",
        "    allowed_extensions = ['.jpg', '.jpeg', '.png', '.gif']\n",
        "    image_files = [file for file in image_files if any(file.endswith(ext) for ext in allowed_extensions)]\n",
        "\n",
        "    # Devolver la lista de nombres de archivo como respuesta JSON\n",
        "    return jsonify({'images': image_files})\n",
        "\n",
        "# Ruta para servir las imágenes estáticas\n",
        "@app.route('/images/<path:filename>')\n",
        "def serve_image(filename):\n",
        "    print(filename)\n",
        "    return send_from_directory(app.static_folder, filename)"
      ],
      "metadata": {
        "id": "fGPEx-HnB5yi"
      },
      "execution_count": null,
      "outputs": []
    },
    {
      "cell_type": "code",
      "source": [
        "if __name__ == \"__main__\":\n",
        "    app.run()"
      ],
      "metadata": {
        "id": "86kpFUXVOsID",
        "colab": {
          "base_uri": "https://localhost:8080/"
        },
        "outputId": "9e856171-c259-430b-e829-9d7c5edf5355"
      },
      "execution_count": 12,
      "outputs": [
        {
          "output_type": "stream",
          "name": "stdout",
          "text": [
            " * Serving Flask app '__main__'\n",
            " * Debug mode: off\n"
          ]
        },
        {
          "output_type": "stream",
          "name": "stderr",
          "text": [
            "INFO:werkzeug:\u001b[31m\u001b[1mWARNING: This is a development server. Do not use it in a production deployment. Use a production WSGI server instead.\u001b[0m\n",
            " * Running on http://127.0.0.1:5000\n",
            "INFO:werkzeug:\u001b[33mPress CTRL+C to quit\u001b[0m\n"
          ]
        },
        {
          "output_type": "stream",
          "name": "stdout",
          "text": [
            " * Running on http://4143-34-133-40-112.ngrok.io\n",
            " * Traffic stats available on http://127.0.0.1:4040\n"
          ]
        },
        {
          "output_type": "stream",
          "name": "stderr",
          "text": [
            "ERROR:__main__:Exception on /save_image_segmentation [POST]\n",
            "Traceback (most recent call last):\n",
            "  File \"/usr/local/lib/python3.10/dist-packages/flask/app.py\", line 2529, in wsgi_app\n",
            "    response = self.full_dispatch_request()\n",
            "  File \"/usr/local/lib/python3.10/dist-packages/flask/app.py\", line 1825, in full_dispatch_request\n",
            "    rv = self.handle_user_exception(e)\n",
            "  File \"/usr/local/lib/python3.10/dist-packages/flask/app.py\", line 1823, in full_dispatch_request\n",
            "    rv = self.dispatch_request()\n",
            "  File \"/usr/local/lib/python3.10/dist-packages/flask/app.py\", line 1799, in dispatch_request\n",
            "    return self.ensure_sync(self.view_functions[rule.endpoint])(**view_args)\n",
            "  File \"<ipython-input-12-9a41de880238>\", line 109, in save_image_segmentation\n",
            "    image.save(filename)\n",
            "  File \"/usr/local/lib/python3.10/dist-packages/werkzeug/datastructures/file_storage.py\", line 125, in save\n",
            "    dst = open(dst, \"wb\")\n",
            "FileNotFoundError: [Errno 2] No such file or directory: 'segmentation/images/imagen_1697854121198.png'\n",
            "INFO:werkzeug:127.0.0.1 - - [21/Oct/2023 02:08:42] \"\u001b[35m\u001b[1mPOST /save_image_segmentation HTTP/1.1\u001b[0m\" 500 -\n"
          ]
        },
        {
          "output_type": "stream",
          "name": "stdout",
          "text": [
            "<FileStorage: 'imagen_1697854121198.png' ('image/png')>\n"
          ]
        },
        {
          "output_type": "stream",
          "name": "stderr",
          "text": [
            "INFO:werkzeug:127.0.0.1 - - [21/Oct/2023 02:11:07] \"POST /save_image_segmentation HTTP/1.1\" 200 -\n"
          ]
        },
        {
          "output_type": "stream",
          "name": "stdout",
          "text": [
            "<FileStorage: 'imagen_1697854266183.png' ('image/png')>\n"
          ]
        }
      ]
    },
    {
      "cell_type": "code",
      "source": [
        "!git remote add origin https://github.com/ggratani/embryo_segmentation.git"
      ],
      "metadata": {
        "colab": {
          "base_uri": "https://localhost:8080/"
        },
        "id": "aBxOVunI--Ml",
        "outputId": "ffc3fbea-5088-4c80-d565-a5b1a759d8e9"
      },
      "execution_count": 14,
      "outputs": [
        {
          "output_type": "stream",
          "name": "stdout",
          "text": [
            "fatal: not a git repository (or any of the parent directories): .git\n"
          ]
        }
      ]
    },
    {
      "cell_type": "code",
      "source": [],
      "metadata": {
        "id": "1_-R8wKQA1ay"
      },
      "execution_count": null,
      "outputs": []
    }
  ]
}